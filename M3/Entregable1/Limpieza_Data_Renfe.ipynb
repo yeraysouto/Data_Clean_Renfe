{
 "cells": [
  {
   "cell_type": "markdown",
   "metadata": {},
   "source": [
    "## Carga de Librerias"
   ]
  },
  {
   "cell_type": "code",
   "execution_count": 79,
   "metadata": {},
   "outputs": [],
   "source": [
    "import pandas as pd     # data processing, CSV file I/O (e.g. pd.read_csv)\n",
    "import numpy as np    # linear algebra\n",
    "import matplotlib.pyplot as plt     # data visualization\n",
    "import seaborn as sns               # data visualization\n",
    "from sklearn.preprocessing import StandardScaler, MinMaxScaler, RobustScaler        # data preprocessing"
   ]
  },
  {
   "cell_type": "code",
   "execution_count": 80,
   "metadata": {},
   "outputs": [],
   "source": [
    "renfe1 = pd.read_csv(\"/Users/yeraysouto/Desktop/M3/Entregable1/renfe.csv\", sep=',', encoding='latin-1')"
   ]
  },
  {
   "cell_type": "markdown",
   "metadata": {},
   "source": [
    "## Información general del dataset"
   ]
  },
  {
   "cell_type": "markdown",
   "metadata": {},
   "source": [
    "¿Me puedes decir todas las variables que tenemos nulos?"
   ]
  },
  {
   "cell_type": "code",
   "execution_count": 81,
   "metadata": {},
   "outputs": [
    {
     "data": {
      "text/html": [
       "<div>\n",
       "<style scoped>\n",
       "    .dataframe tbody tr th:only-of-type {\n",
       "        vertical-align: middle;\n",
       "    }\n",
       "\n",
       "    .dataframe tbody tr th {\n",
       "        vertical-align: top;\n",
       "    }\n",
       "\n",
       "    .dataframe thead th {\n",
       "        text-align: right;\n",
       "    }\n",
       "</style>\n",
       "<table border=\"1\" class=\"dataframe\">\n",
       "  <thead>\n",
       "    <tr style=\"text-align: right;\">\n",
       "      <th></th>\n",
       "      <th>FECHA_CONSULTA</th>\n",
       "      <th>FECHA_INICIO</th>\n",
       "      <th>FECHA_FIN</th>\n",
       "      <th>CIUDAD_ORIGEN</th>\n",
       "      <th>CIUDAD_DESTINO</th>\n",
       "      <th>TIPO_TREN</th>\n",
       "      <th>TIPO_TARIFA</th>\n",
       "      <th>CLASE</th>\n",
       "      <th>PRECIO</th>\n",
       "    </tr>\n",
       "  </thead>\n",
       "  <tbody>\n",
       "    <tr>\n",
       "      <th>0</th>\n",
       "      <td>2019-05-25 01:43:03</td>\n",
       "      <td>2019-06-28 20:36:00</td>\n",
       "      <td>2019-06-28 23:14:00</td>\n",
       "      <td>SEVILLA</td>\n",
       "      <td>MADRID</td>\n",
       "      <td>ALVIA</td>\n",
       "      <td>Flexible</td>\n",
       "      <td>Turista</td>\n",
       "      <td>67.20</td>\n",
       "    </tr>\n",
       "    <tr>\n",
       "      <th>1</th>\n",
       "      <td>2019-06-22 13:05:11</td>\n",
       "      <td>2019-07-14 10:00:00</td>\n",
       "      <td>2019-07-14 13:10:00</td>\n",
       "      <td>BARCELONA</td>\n",
       "      <td>MADRID</td>\n",
       "      <td>AVE</td>\n",
       "      <td>Flexible</td>\n",
       "      <td>Turista</td>\n",
       "      <td>107.70</td>\n",
       "    </tr>\n",
       "    <tr>\n",
       "      <th>2</th>\n",
       "      <td>2019-04-17 06:24:03</td>\n",
       "      <td>2019-05-23 13:40:00</td>\n",
       "      <td>2019-05-23 16:10:00</td>\n",
       "      <td>SEVILLA</td>\n",
       "      <td>MADRID</td>\n",
       "      <td>AVE</td>\n",
       "      <td>Promo</td>\n",
       "      <td>Turista</td>\n",
       "      <td>47.30</td>\n",
       "    </tr>\n",
       "    <tr>\n",
       "      <th>3</th>\n",
       "      <td>2019-05-10 21:21:59</td>\n",
       "      <td>2019-05-29 14:50:00</td>\n",
       "      <td>2019-05-29 22:30:00</td>\n",
       "      <td>VALENCIA</td>\n",
       "      <td>MADRID</td>\n",
       "      <td>REGIONAL</td>\n",
       "      <td>Adulto ida</td>\n",
       "      <td>Turista</td>\n",
       "      <td>28.35</td>\n",
       "    </tr>\n",
       "    <tr>\n",
       "      <th>4</th>\n",
       "      <td>2019-05-09 19:43:37</td>\n",
       "      <td>2019-06-26 13:25:00</td>\n",
       "      <td>2019-06-26 16:24:00</td>\n",
       "      <td>MADRID</td>\n",
       "      <td>BARCELONA</td>\n",
       "      <td>AVE-TGV</td>\n",
       "      <td>Promo</td>\n",
       "      <td>Turista</td>\n",
       "      <td>66.75</td>\n",
       "    </tr>\n",
       "  </tbody>\n",
       "</table>\n",
       "</div>"
      ],
      "text/plain": [
       "        FECHA_CONSULTA         FECHA_INICIO            FECHA_FIN  \\\n",
       "0  2019-05-25 01:43:03  2019-06-28 20:36:00  2019-06-28 23:14:00   \n",
       "1  2019-06-22 13:05:11  2019-07-14 10:00:00  2019-07-14 13:10:00   \n",
       "2  2019-04-17 06:24:03  2019-05-23 13:40:00  2019-05-23 16:10:00   \n",
       "3  2019-05-10 21:21:59  2019-05-29 14:50:00  2019-05-29 22:30:00   \n",
       "4  2019-05-09 19:43:37  2019-06-26 13:25:00  2019-06-26 16:24:00   \n",
       "\n",
       "  CIUDAD_ORIGEN CIUDAD_DESTINO TIPO_TREN TIPO_TARIFA    CLASE  PRECIO  \n",
       "0       SEVILLA         MADRID     ALVIA    Flexible  Turista   67.20  \n",
       "1     BARCELONA         MADRID       AVE    Flexible  Turista  107.70  \n",
       "2       SEVILLA         MADRID       AVE       Promo  Turista   47.30  \n",
       "3      VALENCIA         MADRID  REGIONAL  Adulto ida  Turista   28.35  \n",
       "4        MADRID      BARCELONA   AVE-TGV       Promo  Turista   66.75  "
      ]
     },
     "execution_count": 81,
     "metadata": {},
     "output_type": "execute_result"
    }
   ],
   "source": [
    "renfe1.head()"
   ]
  },
  {
   "cell_type": "code",
   "execution_count": 82,
   "metadata": {},
   "outputs": [
    {
     "name": "stdout",
     "output_type": "stream",
     "text": [
      "<class 'pandas.core.frame.DataFrame'>\n",
      "RangeIndex: 383568 entries, 0 to 383567\n",
      "Data columns (total 9 columns):\n",
      " #   Column          Non-Null Count   Dtype  \n",
      "---  ------          --------------   -----  \n",
      " 0   FECHA_CONSULTA  383568 non-null  object \n",
      " 1   FECHA_INICIO    383568 non-null  object \n",
      " 2   FECHA_FIN       383568 non-null  object \n",
      " 3   CIUDAD_ORIGEN   383568 non-null  object \n",
      " 4   CIUDAD_DESTINO  383568 non-null  object \n",
      " 5   TIPO_TREN       345211 non-null  object \n",
      " 6   TIPO_TARIFA     344009 non-null  object \n",
      " 7   CLASE           344000 non-null  object \n",
      " 8   PRECIO          355038 non-null  float64\n",
      "dtypes: float64(1), object(8)\n",
      "memory usage: 26.3+ MB\n"
     ]
    }
   ],
   "source": [
    "renfe1.info()"
   ]
  },
  {
   "cell_type": "code",
   "execution_count": 83,
   "metadata": {},
   "outputs": [
    {
     "data": {
      "text/html": [
       "<div>\n",
       "<style scoped>\n",
       "    .dataframe tbody tr th:only-of-type {\n",
       "        vertical-align: middle;\n",
       "    }\n",
       "\n",
       "    .dataframe tbody tr th {\n",
       "        vertical-align: top;\n",
       "    }\n",
       "\n",
       "    .dataframe thead th {\n",
       "        text-align: right;\n",
       "    }\n",
       "</style>\n",
       "<table border=\"1\" class=\"dataframe\">\n",
       "  <thead>\n",
       "    <tr style=\"text-align: right;\">\n",
       "      <th></th>\n",
       "      <th>PRECIO</th>\n",
       "    </tr>\n",
       "  </thead>\n",
       "  <tbody>\n",
       "    <tr>\n",
       "      <th>count</th>\n",
       "      <td>355038.000000</td>\n",
       "    </tr>\n",
       "    <tr>\n",
       "      <th>mean</th>\n",
       "      <td>61.435380</td>\n",
       "    </tr>\n",
       "    <tr>\n",
       "      <th>std</th>\n",
       "      <td>25.695934</td>\n",
       "    </tr>\n",
       "    <tr>\n",
       "      <th>min</th>\n",
       "      <td>0.000000</td>\n",
       "    </tr>\n",
       "    <tr>\n",
       "      <th>25%</th>\n",
       "      <td>41.200000</td>\n",
       "    </tr>\n",
       "    <tr>\n",
       "      <th>50%</th>\n",
       "      <td>58.150000</td>\n",
       "    </tr>\n",
       "    <tr>\n",
       "      <th>75%</th>\n",
       "      <td>76.300000</td>\n",
       "    </tr>\n",
       "    <tr>\n",
       "      <th>max</th>\n",
       "      <td>342.800000</td>\n",
       "    </tr>\n",
       "  </tbody>\n",
       "</table>\n",
       "</div>"
      ],
      "text/plain": [
       "              PRECIO\n",
       "count  355038.000000\n",
       "mean       61.435380\n",
       "std        25.695934\n",
       "min         0.000000\n",
       "25%        41.200000\n",
       "50%        58.150000\n",
       "75%        76.300000\n",
       "max       342.800000"
      ]
     },
     "execution_count": 83,
     "metadata": {},
     "output_type": "execute_result"
    }
   ],
   "source": [
    "renfe1.describe()"
   ]
  },
  {
   "cell_type": "code",
   "execution_count": 84,
   "metadata": {},
   "outputs": [
    {
     "data": {
      "text/plain": [
       "FECHA_CONSULTA        0\n",
       "FECHA_INICIO          0\n",
       "FECHA_FIN             0\n",
       "CIUDAD_ORIGEN         0\n",
       "CIUDAD_DESTINO        0\n",
       "TIPO_TREN         38357\n",
       "TIPO_TARIFA       39559\n",
       "CLASE             39568\n",
       "PRECIO            28530\n",
       "dtype: int64"
      ]
     },
     "execution_count": 84,
     "metadata": {},
     "output_type": "execute_result"
    }
   ],
   "source": [
    "renfe1.isnull().sum()"
   ]
  },
  {
   "cell_type": "markdown",
   "metadata": {},
   "source": [
    "### Reconvertir columnas de fecha a formato fecha y hora"
   ]
  },
  {
   "cell_type": "code",
   "execution_count": 85,
   "metadata": {},
   "outputs": [],
   "source": [
    "renfe1[\"FECHA_CONSULTA\"] = pd.to_datetime(renfe1['FECHA_CONSULTA'])\n",
    "renfe1[\"FECHA_INICIO\"] = pd.to_datetime(renfe1['FECHA_INICIO'])\n",
    "renfe1[\"FECHA_FIN\"] = pd.to_datetime(renfe1['FECHA_FIN'])"
   ]
  },
  {
   "cell_type": "code",
   "execution_count": 86,
   "metadata": {},
   "outputs": [
    {
     "name": "stdout",
     "output_type": "stream",
     "text": [
      "<class 'pandas.core.frame.DataFrame'>\n",
      "RangeIndex: 383568 entries, 0 to 383567\n",
      "Data columns (total 9 columns):\n",
      " #   Column          Non-Null Count   Dtype         \n",
      "---  ------          --------------   -----         \n",
      " 0   FECHA_CONSULTA  383568 non-null  datetime64[ns]\n",
      " 1   FECHA_INICIO    383568 non-null  datetime64[ns]\n",
      " 2   FECHA_FIN       383568 non-null  datetime64[ns]\n",
      " 3   CIUDAD_ORIGEN   383568 non-null  object        \n",
      " 4   CIUDAD_DESTINO  383568 non-null  object        \n",
      " 5   TIPO_TREN       345211 non-null  object        \n",
      " 6   TIPO_TARIFA     344009 non-null  object        \n",
      " 7   CLASE           344000 non-null  object        \n",
      " 8   PRECIO          355038 non-null  float64       \n",
      "dtypes: datetime64[ns](3), float64(1), object(5)\n",
      "memory usage: 26.3+ MB\n"
     ]
    }
   ],
   "source": [
    "renfe1.info()   # Check the data type of each column"
   ]
  },
  {
   "cell_type": "markdown",
   "metadata": {},
   "source": [
    "## Tratamiento de duplicados \n"
   ]
  },
  {
   "cell_type": "code",
   "execution_count": 87,
   "metadata": {},
   "outputs": [
    {
     "data": {
      "text/html": [
       "<div>\n",
       "<style scoped>\n",
       "    .dataframe tbody tr th:only-of-type {\n",
       "        vertical-align: middle;\n",
       "    }\n",
       "\n",
       "    .dataframe tbody tr th {\n",
       "        vertical-align: top;\n",
       "    }\n",
       "\n",
       "    .dataframe thead th {\n",
       "        text-align: right;\n",
       "    }\n",
       "</style>\n",
       "<table border=\"1\" class=\"dataframe\">\n",
       "  <thead>\n",
       "    <tr style=\"text-align: right;\">\n",
       "      <th></th>\n",
       "      <th>FECHA_CONSULTA</th>\n",
       "      <th>FECHA_INICIO</th>\n",
       "      <th>FECHA_FIN</th>\n",
       "      <th>CIUDAD_ORIGEN</th>\n",
       "      <th>CIUDAD_DESTINO</th>\n",
       "      <th>TIPO_TREN</th>\n",
       "      <th>TIPO_TARIFA</th>\n",
       "      <th>CLASE</th>\n",
       "      <th>PRECIO</th>\n",
       "    </tr>\n",
       "  </thead>\n",
       "  <tbody>\n",
       "    <tr>\n",
       "      <th>67494</th>\n",
       "      <td>2019-04-29 23:15:13</td>\n",
       "      <td>2019-05-14 06:20:00</td>\n",
       "      <td>2019-05-14 14:25:00</td>\n",
       "      <td>MADRID</td>\n",
       "      <td>BARCELONA</td>\n",
       "      <td>LD-AVE</td>\n",
       "      <td>Promo</td>\n",
       "      <td>Turista</td>\n",
       "      <td>NaN</td>\n",
       "    </tr>\n",
       "    <tr>\n",
       "      <th>82429</th>\n",
       "      <td>2019-04-30 09:09:51</td>\n",
       "      <td>2019-05-19 17:30:00</td>\n",
       "      <td>2019-05-19 19:43:00</td>\n",
       "      <td>VALENCIA</td>\n",
       "      <td>MADRID</td>\n",
       "      <td>INTERCITY</td>\n",
       "      <td>Flexible</td>\n",
       "      <td>Turista</td>\n",
       "      <td>55.40</td>\n",
       "    </tr>\n",
       "    <tr>\n",
       "      <th>88401</th>\n",
       "      <td>2019-05-15 23:37:01</td>\n",
       "      <td>2019-06-21 21:05:00</td>\n",
       "      <td>2019-06-21 23:32:00</td>\n",
       "      <td>VALENCIA</td>\n",
       "      <td>MADRID</td>\n",
       "      <td>INTERCITY</td>\n",
       "      <td>NaN</td>\n",
       "      <td>NaN</td>\n",
       "      <td>NaN</td>\n",
       "    </tr>\n",
       "    <tr>\n",
       "      <th>107458</th>\n",
       "      <td>2019-06-12 11:51:44</td>\n",
       "      <td>2019-06-16 17:30:00</td>\n",
       "      <td>2019-06-16 19:43:00</td>\n",
       "      <td>VALENCIA</td>\n",
       "      <td>MADRID</td>\n",
       "      <td>INTERCITY</td>\n",
       "      <td>Flexible</td>\n",
       "      <td>TuristaSólo plaza H</td>\n",
       "      <td>55.40</td>\n",
       "    </tr>\n",
       "    <tr>\n",
       "      <th>143395</th>\n",
       "      <td>2019-08-17 03:22:19</td>\n",
       "      <td>2019-09-01 21:03:00</td>\n",
       "      <td>2019-09-01 23:28:00</td>\n",
       "      <td>VALENCIA</td>\n",
       "      <td>MADRID</td>\n",
       "      <td>INTERCITY</td>\n",
       "      <td>Flexible</td>\n",
       "      <td>Turista</td>\n",
       "      <td>NaN</td>\n",
       "    </tr>\n",
       "    <tr>\n",
       "      <th>159167</th>\n",
       "      <td>2019-05-16 13:12:07</td>\n",
       "      <td>2019-06-29 21:05:00</td>\n",
       "      <td>2019-06-29 23:32:00</td>\n",
       "      <td>VALENCIA</td>\n",
       "      <td>MADRID</td>\n",
       "      <td>INTERCITY</td>\n",
       "      <td>NaN</td>\n",
       "      <td>NaN</td>\n",
       "      <td>NaN</td>\n",
       "    </tr>\n",
       "    <tr>\n",
       "      <th>170659</th>\n",
       "      <td>2019-05-15 21:26:30</td>\n",
       "      <td>2019-06-23 21:05:00</td>\n",
       "      <td>2019-06-23 23:32:00</td>\n",
       "      <td>VALENCIA</td>\n",
       "      <td>MADRID</td>\n",
       "      <td>INTERCITY</td>\n",
       "      <td>NaN</td>\n",
       "      <td>NaN</td>\n",
       "      <td>NaN</td>\n",
       "    </tr>\n",
       "    <tr>\n",
       "      <th>191339</th>\n",
       "      <td>2019-08-18 17:34:03</td>\n",
       "      <td>2019-08-23 21:03:00</td>\n",
       "      <td>2019-08-23 23:28:00</td>\n",
       "      <td>VALENCIA</td>\n",
       "      <td>MADRID</td>\n",
       "      <td>INTERCITY</td>\n",
       "      <td>Flexible</td>\n",
       "      <td>Turista</td>\n",
       "      <td>55.40</td>\n",
       "    </tr>\n",
       "    <tr>\n",
       "      <th>235466</th>\n",
       "      <td>2019-06-18 23:16:29</td>\n",
       "      <td>2019-07-23 07:00:00</td>\n",
       "      <td>2019-07-23 14:25:00</td>\n",
       "      <td>MADRID</td>\n",
       "      <td>BARCELONA</td>\n",
       "      <td>LD-AVE</td>\n",
       "      <td>Promo</td>\n",
       "      <td>Turista Plus</td>\n",
       "      <td>NaN</td>\n",
       "    </tr>\n",
       "    <tr>\n",
       "      <th>241656</th>\n",
       "      <td>2019-05-14 03:01:42</td>\n",
       "      <td>2019-07-07 21:05:00</td>\n",
       "      <td>2019-07-07 23:32:00</td>\n",
       "      <td>VALENCIA</td>\n",
       "      <td>MADRID</td>\n",
       "      <td>INTERCITY</td>\n",
       "      <td>Promo</td>\n",
       "      <td>Turista</td>\n",
       "      <td>NaN</td>\n",
       "    </tr>\n",
       "    <tr>\n",
       "      <th>242549</th>\n",
       "      <td>2019-08-14 23:43:07</td>\n",
       "      <td>2019-09-01 11:28:00</td>\n",
       "      <td>2019-09-01 16:00:00</td>\n",
       "      <td>PONFERRADA</td>\n",
       "      <td>MADRID</td>\n",
       "      <td>LD</td>\n",
       "      <td>Flexible</td>\n",
       "      <td>Turista con enlace</td>\n",
       "      <td>NaN</td>\n",
       "    </tr>\n",
       "    <tr>\n",
       "      <th>245026</th>\n",
       "      <td>2019-05-13 03:23:34</td>\n",
       "      <td>2019-07-01 21:05:00</td>\n",
       "      <td>2019-07-01 23:32:00</td>\n",
       "      <td>VALENCIA</td>\n",
       "      <td>MADRID</td>\n",
       "      <td>INTERCITY</td>\n",
       "      <td>NaN</td>\n",
       "      <td>NaN</td>\n",
       "      <td>NaN</td>\n",
       "    </tr>\n",
       "    <tr>\n",
       "      <th>256887</th>\n",
       "      <td>2019-06-10 01:10:54</td>\n",
       "      <td>2019-07-07 21:03:00</td>\n",
       "      <td>2019-07-07 23:28:00</td>\n",
       "      <td>VALENCIA</td>\n",
       "      <td>MADRID</td>\n",
       "      <td>INTERCITY</td>\n",
       "      <td>Promo</td>\n",
       "      <td>Turista</td>\n",
       "      <td>43.75</td>\n",
       "    </tr>\n",
       "    <tr>\n",
       "      <th>263942</th>\n",
       "      <td>2019-04-21 08:08:16</td>\n",
       "      <td>2019-04-28 17:30:00</td>\n",
       "      <td>2019-04-28 19:43:00</td>\n",
       "      <td>VALENCIA</td>\n",
       "      <td>MADRID</td>\n",
       "      <td>INTERCITY</td>\n",
       "      <td>Flexible</td>\n",
       "      <td>Turista</td>\n",
       "      <td>55.40</td>\n",
       "    </tr>\n",
       "    <tr>\n",
       "      <th>274827</th>\n",
       "      <td>2019-06-17 21:00:29</td>\n",
       "      <td>2019-06-23 21:03:00</td>\n",
       "      <td>2019-06-23 23:28:00</td>\n",
       "      <td>VALENCIA</td>\n",
       "      <td>MADRID</td>\n",
       "      <td>INTERCITY</td>\n",
       "      <td>Flexible</td>\n",
       "      <td>TuristaSólo plaza H</td>\n",
       "      <td>55.40</td>\n",
       "    </tr>\n",
       "    <tr>\n",
       "      <th>279458</th>\n",
       "      <td>2019-04-27 17:08:49</td>\n",
       "      <td>2019-05-26 17:30:00</td>\n",
       "      <td>2019-05-26 19:43:00</td>\n",
       "      <td>VALENCIA</td>\n",
       "      <td>MADRID</td>\n",
       "      <td>INTERCITY</td>\n",
       "      <td>Promo</td>\n",
       "      <td>Turista</td>\n",
       "      <td>43.75</td>\n",
       "    </tr>\n",
       "    <tr>\n",
       "      <th>307296</th>\n",
       "      <td>2019-06-19 23:28:29</td>\n",
       "      <td>2019-06-23 21:03:00</td>\n",
       "      <td>2019-06-23 23:28:00</td>\n",
       "      <td>VALENCIA</td>\n",
       "      <td>MADRID</td>\n",
       "      <td>INTERCITY</td>\n",
       "      <td>Flexible</td>\n",
       "      <td>TuristaSólo plaza H</td>\n",
       "      <td>55.40</td>\n",
       "    </tr>\n",
       "    <tr>\n",
       "      <th>316991</th>\n",
       "      <td>2019-04-30 01:05:31</td>\n",
       "      <td>2019-05-11 07:00:00</td>\n",
       "      <td>2019-05-11 14:25:00</td>\n",
       "      <td>MADRID</td>\n",
       "      <td>BARCELONA</td>\n",
       "      <td>LD-AVE</td>\n",
       "      <td>Promo</td>\n",
       "      <td>Turista</td>\n",
       "      <td>NaN</td>\n",
       "    </tr>\n",
       "    <tr>\n",
       "      <th>328693</th>\n",
       "      <td>2019-04-19 09:10:48</td>\n",
       "      <td>2019-04-21 17:30:00</td>\n",
       "      <td>2019-04-21 19:43:00</td>\n",
       "      <td>VALENCIA</td>\n",
       "      <td>MADRID</td>\n",
       "      <td>INTERCITY</td>\n",
       "      <td>Flexible</td>\n",
       "      <td>Turista</td>\n",
       "      <td>NaN</td>\n",
       "    </tr>\n",
       "    <tr>\n",
       "      <th>346701</th>\n",
       "      <td>2019-04-29 23:03:20</td>\n",
       "      <td>2019-05-03 15:50:00</td>\n",
       "      <td>2019-05-03 23:52:00</td>\n",
       "      <td>BARCELONA</td>\n",
       "      <td>MADRID</td>\n",
       "      <td>AVE-LD</td>\n",
       "      <td>Flexible</td>\n",
       "      <td>Turista</td>\n",
       "      <td>NaN</td>\n",
       "    </tr>\n",
       "    <tr>\n",
       "      <th>352451</th>\n",
       "      <td>2019-05-03 05:33:32</td>\n",
       "      <td>2019-05-24 15:10:00</td>\n",
       "      <td>2019-05-24 17:20:00</td>\n",
       "      <td>MADRID</td>\n",
       "      <td>VALENCIA</td>\n",
       "      <td>INTERCITY</td>\n",
       "      <td>Promo</td>\n",
       "      <td>Turista</td>\n",
       "      <td>43.75</td>\n",
       "    </tr>\n",
       "    <tr>\n",
       "      <th>356200</th>\n",
       "      <td>2019-05-03 15:18:26</td>\n",
       "      <td>2019-05-24 15:10:00</td>\n",
       "      <td>2019-05-24 17:20:00</td>\n",
       "      <td>MADRID</td>\n",
       "      <td>VALENCIA</td>\n",
       "      <td>INTERCITY</td>\n",
       "      <td>Promo</td>\n",
       "      <td>Turista</td>\n",
       "      <td>43.75</td>\n",
       "    </tr>\n",
       "    <tr>\n",
       "      <th>376617</th>\n",
       "      <td>2019-05-17 15:22:08</td>\n",
       "      <td>2019-07-11 21:03:00</td>\n",
       "      <td>2019-07-11 23:28:00</td>\n",
       "      <td>VALENCIA</td>\n",
       "      <td>MADRID</td>\n",
       "      <td>INTERCITY</td>\n",
       "      <td>NaN</td>\n",
       "      <td>NaN</td>\n",
       "      <td>NaN</td>\n",
       "    </tr>\n",
       "    <tr>\n",
       "      <th>383408</th>\n",
       "      <td>2019-04-27 17:26:36</td>\n",
       "      <td>2019-04-30 15:10:00</td>\n",
       "      <td>2019-04-30 17:20:00</td>\n",
       "      <td>MADRID</td>\n",
       "      <td>VALENCIA</td>\n",
       "      <td>INTERCITY</td>\n",
       "      <td>Flexible</td>\n",
       "      <td>Turista</td>\n",
       "      <td>NaN</td>\n",
       "    </tr>\n",
       "  </tbody>\n",
       "</table>\n",
       "</div>"
      ],
      "text/plain": [
       "            FECHA_CONSULTA        FECHA_INICIO           FECHA_FIN  \\\n",
       "67494  2019-04-29 23:15:13 2019-05-14 06:20:00 2019-05-14 14:25:00   \n",
       "82429  2019-04-30 09:09:51 2019-05-19 17:30:00 2019-05-19 19:43:00   \n",
       "88401  2019-05-15 23:37:01 2019-06-21 21:05:00 2019-06-21 23:32:00   \n",
       "107458 2019-06-12 11:51:44 2019-06-16 17:30:00 2019-06-16 19:43:00   \n",
       "143395 2019-08-17 03:22:19 2019-09-01 21:03:00 2019-09-01 23:28:00   \n",
       "159167 2019-05-16 13:12:07 2019-06-29 21:05:00 2019-06-29 23:32:00   \n",
       "170659 2019-05-15 21:26:30 2019-06-23 21:05:00 2019-06-23 23:32:00   \n",
       "191339 2019-08-18 17:34:03 2019-08-23 21:03:00 2019-08-23 23:28:00   \n",
       "235466 2019-06-18 23:16:29 2019-07-23 07:00:00 2019-07-23 14:25:00   \n",
       "241656 2019-05-14 03:01:42 2019-07-07 21:05:00 2019-07-07 23:32:00   \n",
       "242549 2019-08-14 23:43:07 2019-09-01 11:28:00 2019-09-01 16:00:00   \n",
       "245026 2019-05-13 03:23:34 2019-07-01 21:05:00 2019-07-01 23:32:00   \n",
       "256887 2019-06-10 01:10:54 2019-07-07 21:03:00 2019-07-07 23:28:00   \n",
       "263942 2019-04-21 08:08:16 2019-04-28 17:30:00 2019-04-28 19:43:00   \n",
       "274827 2019-06-17 21:00:29 2019-06-23 21:03:00 2019-06-23 23:28:00   \n",
       "279458 2019-04-27 17:08:49 2019-05-26 17:30:00 2019-05-26 19:43:00   \n",
       "307296 2019-06-19 23:28:29 2019-06-23 21:03:00 2019-06-23 23:28:00   \n",
       "316991 2019-04-30 01:05:31 2019-05-11 07:00:00 2019-05-11 14:25:00   \n",
       "328693 2019-04-19 09:10:48 2019-04-21 17:30:00 2019-04-21 19:43:00   \n",
       "346701 2019-04-29 23:03:20 2019-05-03 15:50:00 2019-05-03 23:52:00   \n",
       "352451 2019-05-03 05:33:32 2019-05-24 15:10:00 2019-05-24 17:20:00   \n",
       "356200 2019-05-03 15:18:26 2019-05-24 15:10:00 2019-05-24 17:20:00   \n",
       "376617 2019-05-17 15:22:08 2019-07-11 21:03:00 2019-07-11 23:28:00   \n",
       "383408 2019-04-27 17:26:36 2019-04-30 15:10:00 2019-04-30 17:20:00   \n",
       "\n",
       "       CIUDAD_ORIGEN CIUDAD_DESTINO  TIPO_TREN TIPO_TARIFA  \\\n",
       "67494         MADRID      BARCELONA     LD-AVE       Promo   \n",
       "82429       VALENCIA         MADRID  INTERCITY    Flexible   \n",
       "88401       VALENCIA         MADRID  INTERCITY         NaN   \n",
       "107458      VALENCIA         MADRID  INTERCITY    Flexible   \n",
       "143395      VALENCIA         MADRID  INTERCITY    Flexible   \n",
       "159167      VALENCIA         MADRID  INTERCITY         NaN   \n",
       "170659      VALENCIA         MADRID  INTERCITY         NaN   \n",
       "191339      VALENCIA         MADRID  INTERCITY    Flexible   \n",
       "235466        MADRID      BARCELONA     LD-AVE       Promo   \n",
       "241656      VALENCIA         MADRID  INTERCITY       Promo   \n",
       "242549    PONFERRADA         MADRID         LD    Flexible   \n",
       "245026      VALENCIA         MADRID  INTERCITY         NaN   \n",
       "256887      VALENCIA         MADRID  INTERCITY       Promo   \n",
       "263942      VALENCIA         MADRID  INTERCITY    Flexible   \n",
       "274827      VALENCIA         MADRID  INTERCITY    Flexible   \n",
       "279458      VALENCIA         MADRID  INTERCITY       Promo   \n",
       "307296      VALENCIA         MADRID  INTERCITY    Flexible   \n",
       "316991        MADRID      BARCELONA     LD-AVE       Promo   \n",
       "328693      VALENCIA         MADRID  INTERCITY    Flexible   \n",
       "346701     BARCELONA         MADRID     AVE-LD    Flexible   \n",
       "352451        MADRID       VALENCIA  INTERCITY       Promo   \n",
       "356200        MADRID       VALENCIA  INTERCITY       Promo   \n",
       "376617      VALENCIA         MADRID  INTERCITY         NaN   \n",
       "383408        MADRID       VALENCIA  INTERCITY    Flexible   \n",
       "\n",
       "                      CLASE  PRECIO  \n",
       "67494               Turista     NaN  \n",
       "82429               Turista   55.40  \n",
       "88401                   NaN     NaN  \n",
       "107458  TuristaSólo plaza H   55.40  \n",
       "143395              Turista     NaN  \n",
       "159167                  NaN     NaN  \n",
       "170659                  NaN     NaN  \n",
       "191339              Turista   55.40  \n",
       "235466         Turista Plus     NaN  \n",
       "241656              Turista     NaN  \n",
       "242549   Turista con enlace     NaN  \n",
       "245026                  NaN     NaN  \n",
       "256887              Turista   43.75  \n",
       "263942              Turista   55.40  \n",
       "274827  TuristaSólo plaza H   55.40  \n",
       "279458              Turista   43.75  \n",
       "307296  TuristaSólo plaza H   55.40  \n",
       "316991              Turista     NaN  \n",
       "328693              Turista     NaN  \n",
       "346701              Turista     NaN  \n",
       "352451              Turista   43.75  \n",
       "356200              Turista   43.75  \n",
       "376617                  NaN     NaN  \n",
       "383408              Turista     NaN  "
      ]
     },
     "execution_count": 87,
     "metadata": {},
     "output_type": "execute_result"
    }
   ],
   "source": [
    "renfe1[renfe1.duplicated()]# Check the number of duplicated rows"
   ]
  },
  {
   "cell_type": "code",
   "execution_count": 88,
   "metadata": {},
   "outputs": [],
   "source": [
    "renfe1.drop_duplicates(inplace=True)   # Drop the duplicated rows"
   ]
  },
  {
   "cell_type": "markdown",
   "metadata": {},
   "source": [
    "## Tratamiento de nulos"
   ]
  },
  {
   "cell_type": "code",
   "execution_count": 229,
   "metadata": {},
   "outputs": [
    {
     "name": "stdout",
     "output_type": "stream",
     "text": [
      "<class 'pandas.core.frame.DataFrame'>\n",
      "Index: 380117 entries, 0 to 383567\n",
      "Data columns (total 11 columns):\n",
      " #   Column          Non-Null Count   Dtype         \n",
      "---  ------          --------------   -----         \n",
      " 0   FECHA_CONSULTA  380117 non-null  datetime64[ns]\n",
      " 1   FECHA_INICIO    380117 non-null  datetime64[ns]\n",
      " 2   FECHA_FIN       380117 non-null  datetime64[ns]\n",
      " 3   TIEMPO_VIAJE    380117 non-null  float64       \n",
      " 4   DIF_INI_BUS     380117 non-null  float64       \n",
      " 5   CIUDAD_ORIGEN   380117 non-null  object        \n",
      " 6   CIUDAD_DESTINO  380117 non-null  object        \n",
      " 7   TIPO_TREN       380117 non-null  object        \n",
      " 8   TIPO_TARIFA     380117 non-null  object        \n",
      " 9   CLASE           380117 non-null  object        \n",
      " 10  PRECIO          380117 non-null  float64       \n",
      "dtypes: datetime64[ns](3), float64(3), object(5)\n",
      "memory usage: 34.8+ MB\n"
     ]
    }
   ],
   "source": [
    "renfe1.info()"
   ]
  },
  {
   "cell_type": "markdown",
   "metadata": {},
   "source": [
    "### Precios"
   ]
  },
  {
   "cell_type": "code",
   "execution_count": 90,
   "metadata": {},
   "outputs": [
    {
     "data": {
      "text/plain": [
       "np.int64(145990)"
      ]
     },
     "execution_count": 90,
     "metadata": {},
     "output_type": "execute_result"
    }
   ],
   "source": [
    "renfe1.isnull().sum().sum()   # Check the number of missing values"
   ]
  },
  {
   "cell_type": "code",
   "execution_count": 91,
   "metadata": {},
   "outputs": [
    {
     "data": {
      "text/plain": [
       "np.int64(28516)"
      ]
     },
     "execution_count": 91,
     "metadata": {},
     "output_type": "execute_result"
    }
   ],
   "source": [
    "renfe1[\"PRECIO\"].isnull().sum()   # Check the number of missing values in the column \"PRECIO\"\n"
   ]
  },
  {
   "cell_type": "code",
   "execution_count": 114,
   "metadata": {},
   "outputs": [],
   "source": [
    "nulos = renfe1[\"PRECIO\"].isnull().sum().sum()   # Check the percentage of missing values in each column"
   ]
  },
  {
   "cell_type": "code",
   "execution_count": 111,
   "metadata": {},
   "outputs": [],
   "source": [
    "porcentaje_nulos = (nulos / renfe1[\"PRECIO\"].shape[0] * 100)"
   ]
  },
  {
   "cell_type": "code",
   "execution_count": 112,
   "metadata": {},
   "outputs": [
    {
     "data": {
      "text/plain": [
       "np.float64(7.434870575475043)"
      ]
     },
     "execution_count": 112,
     "metadata": {},
     "output_type": "execute_result"
    }
   ],
   "source": [
    "porcentaje_nulos"
   ]
  },
  {
   "cell_type": "markdown",
   "metadata": {},
   "source": [
    "### Tratamiento PRECIOS"
   ]
  },
  {
   "cell_type": "markdown",
   "metadata": {},
   "source": [
    "Vamos a analizar los nulos de cada columna, explícame qué harías con cada columna nula.\n"
   ]
  },
  {
   "cell_type": "code",
   "execution_count": 137,
   "metadata": {},
   "outputs": [
    {
     "data": {
      "text/html": [
       "<div>\n",
       "<style scoped>\n",
       "    .dataframe tbody tr th:only-of-type {\n",
       "        vertical-align: middle;\n",
       "    }\n",
       "\n",
       "    .dataframe tbody tr th {\n",
       "        vertical-align: top;\n",
       "    }\n",
       "\n",
       "    .dataframe thead th {\n",
       "        text-align: right;\n",
       "    }\n",
       "</style>\n",
       "<table border=\"1\" class=\"dataframe\">\n",
       "  <thead>\n",
       "    <tr style=\"text-align: right;\">\n",
       "      <th></th>\n",
       "      <th>FECHA_CONSULTA</th>\n",
       "      <th>FECHA_INICIO</th>\n",
       "      <th>FECHA_FIN</th>\n",
       "      <th>TIEMPO_VIAJE</th>\n",
       "      <th>DIF_INI_BUS</th>\n",
       "      <th>CIUDAD_ORIGEN</th>\n",
       "      <th>CIUDAD_DESTINO</th>\n",
       "      <th>TIPO_TREN</th>\n",
       "      <th>TIPO_TARIFA</th>\n",
       "      <th>CLASE</th>\n",
       "      <th>PRECIO</th>\n",
       "    </tr>\n",
       "  </thead>\n",
       "  <tbody>\n",
       "    <tr>\n",
       "      <th>0</th>\n",
       "      <td>2019-05-25 01:43:03</td>\n",
       "      <td>2019-06-28 20:36:00</td>\n",
       "      <td>2019-06-28 23:14:00</td>\n",
       "      <td>158.0</td>\n",
       "      <td>50092.950000</td>\n",
       "      <td>SEVILLA</td>\n",
       "      <td>MADRID</td>\n",
       "      <td>ALVIA</td>\n",
       "      <td>Flexible</td>\n",
       "      <td>Turista</td>\n",
       "      <td>67.20</td>\n",
       "    </tr>\n",
       "    <tr>\n",
       "      <th>1</th>\n",
       "      <td>2019-06-22 13:05:11</td>\n",
       "      <td>2019-07-14 10:00:00</td>\n",
       "      <td>2019-07-14 13:10:00</td>\n",
       "      <td>190.0</td>\n",
       "      <td>31494.816667</td>\n",
       "      <td>BARCELONA</td>\n",
       "      <td>MADRID</td>\n",
       "      <td>AVE</td>\n",
       "      <td>Flexible</td>\n",
       "      <td>Turista</td>\n",
       "      <td>107.70</td>\n",
       "    </tr>\n",
       "    <tr>\n",
       "      <th>2</th>\n",
       "      <td>2019-04-17 06:24:03</td>\n",
       "      <td>2019-05-23 13:40:00</td>\n",
       "      <td>2019-05-23 16:10:00</td>\n",
       "      <td>150.0</td>\n",
       "      <td>52275.950000</td>\n",
       "      <td>SEVILLA</td>\n",
       "      <td>MADRID</td>\n",
       "      <td>AVE</td>\n",
       "      <td>Promo</td>\n",
       "      <td>Turista</td>\n",
       "      <td>47.30</td>\n",
       "    </tr>\n",
       "    <tr>\n",
       "      <th>3</th>\n",
       "      <td>2019-05-10 21:21:59</td>\n",
       "      <td>2019-05-29 14:50:00</td>\n",
       "      <td>2019-05-29 22:30:00</td>\n",
       "      <td>460.0</td>\n",
       "      <td>26968.016667</td>\n",
       "      <td>VALENCIA</td>\n",
       "      <td>MADRID</td>\n",
       "      <td>REGIONAL</td>\n",
       "      <td>Adulto ida</td>\n",
       "      <td>Turista</td>\n",
       "      <td>28.35</td>\n",
       "    </tr>\n",
       "    <tr>\n",
       "      <th>4</th>\n",
       "      <td>2019-05-09 19:43:37</td>\n",
       "      <td>2019-06-26 13:25:00</td>\n",
       "      <td>2019-06-26 16:24:00</td>\n",
       "      <td>179.0</td>\n",
       "      <td>68741.383333</td>\n",
       "      <td>MADRID</td>\n",
       "      <td>BARCELONA</td>\n",
       "      <td>AVE-TGV</td>\n",
       "      <td>Promo</td>\n",
       "      <td>Turista</td>\n",
       "      <td>66.75</td>\n",
       "    </tr>\n",
       "    <tr>\n",
       "      <th>...</th>\n",
       "      <td>...</td>\n",
       "      <td>...</td>\n",
       "      <td>...</td>\n",
       "      <td>...</td>\n",
       "      <td>...</td>\n",
       "      <td>...</td>\n",
       "      <td>...</td>\n",
       "      <td>...</td>\n",
       "      <td>...</td>\n",
       "      <td>...</td>\n",
       "      <td>...</td>\n",
       "    </tr>\n",
       "    <tr>\n",
       "      <th>383563</th>\n",
       "      <td>2019-05-06 05:11:53</td>\n",
       "      <td>2019-05-10 19:40:00</td>\n",
       "      <td>2019-05-10 21:29:00</td>\n",
       "      <td>109.0</td>\n",
       "      <td>6628.116667</td>\n",
       "      <td>MADRID</td>\n",
       "      <td>VALENCIA</td>\n",
       "      <td>AVE</td>\n",
       "      <td>Flexible</td>\n",
       "      <td>NaN</td>\n",
       "      <td>73.10</td>\n",
       "    </tr>\n",
       "    <tr>\n",
       "      <th>383564</th>\n",
       "      <td>2019-06-19 21:48:56</td>\n",
       "      <td>2019-08-05 20:00:00</td>\n",
       "      <td>2019-08-05 23:10:00</td>\n",
       "      <td>190.0</td>\n",
       "      <td>67571.066667</td>\n",
       "      <td>BARCELONA</td>\n",
       "      <td>MADRID</td>\n",
       "      <td>AVE</td>\n",
       "      <td>Promo</td>\n",
       "      <td>Preferente</td>\n",
       "      <td>54.45</td>\n",
       "    </tr>\n",
       "    <tr>\n",
       "      <th>383565</th>\n",
       "      <td>2019-04-24 23:21:44</td>\n",
       "      <td>2019-04-29 16:15:00</td>\n",
       "      <td>2019-04-29 17:55:00</td>\n",
       "      <td>100.0</td>\n",
       "      <td>6773.266667</td>\n",
       "      <td>VALENCIA</td>\n",
       "      <td>MADRID</td>\n",
       "      <td>AVE</td>\n",
       "      <td>Promo</td>\n",
       "      <td>Turista</td>\n",
       "      <td>27.80</td>\n",
       "    </tr>\n",
       "    <tr>\n",
       "      <th>383566</th>\n",
       "      <td>2019-05-27 21:05:19</td>\n",
       "      <td>2019-07-07 15:00:00</td>\n",
       "      <td>2019-07-07 17:21:00</td>\n",
       "      <td>141.0</td>\n",
       "      <td>58674.683333</td>\n",
       "      <td>MADRID</td>\n",
       "      <td>SEVILLA</td>\n",
       "      <td>AVE</td>\n",
       "      <td>Promo</td>\n",
       "      <td>NaN</td>\n",
       "      <td>47.30</td>\n",
       "    </tr>\n",
       "    <tr>\n",
       "      <th>383567</th>\n",
       "      <td>2019-05-27 15:04:14</td>\n",
       "      <td>2019-06-16 18:35:00</td>\n",
       "      <td>2019-06-16 20:21:00</td>\n",
       "      <td>106.0</td>\n",
       "      <td>29010.766667</td>\n",
       "      <td>VALENCIA</td>\n",
       "      <td>MADRID</td>\n",
       "      <td>AVE</td>\n",
       "      <td>Flexible</td>\n",
       "      <td>Turista</td>\n",
       "      <td>73.10</td>\n",
       "    </tr>\n",
       "  </tbody>\n",
       "</table>\n",
       "<p>383544 rows × 11 columns</p>\n",
       "</div>"
      ],
      "text/plain": [
       "            FECHA_CONSULTA        FECHA_INICIO           FECHA_FIN  \\\n",
       "0      2019-05-25 01:43:03 2019-06-28 20:36:00 2019-06-28 23:14:00   \n",
       "1      2019-06-22 13:05:11 2019-07-14 10:00:00 2019-07-14 13:10:00   \n",
       "2      2019-04-17 06:24:03 2019-05-23 13:40:00 2019-05-23 16:10:00   \n",
       "3      2019-05-10 21:21:59 2019-05-29 14:50:00 2019-05-29 22:30:00   \n",
       "4      2019-05-09 19:43:37 2019-06-26 13:25:00 2019-06-26 16:24:00   \n",
       "...                    ...                 ...                 ...   \n",
       "383563 2019-05-06 05:11:53 2019-05-10 19:40:00 2019-05-10 21:29:00   \n",
       "383564 2019-06-19 21:48:56 2019-08-05 20:00:00 2019-08-05 23:10:00   \n",
       "383565 2019-04-24 23:21:44 2019-04-29 16:15:00 2019-04-29 17:55:00   \n",
       "383566 2019-05-27 21:05:19 2019-07-07 15:00:00 2019-07-07 17:21:00   \n",
       "383567 2019-05-27 15:04:14 2019-06-16 18:35:00 2019-06-16 20:21:00   \n",
       "\n",
       "        TIEMPO_VIAJE   DIF_INI_BUS CIUDAD_ORIGEN CIUDAD_DESTINO TIPO_TREN  \\\n",
       "0              158.0  50092.950000       SEVILLA         MADRID     ALVIA   \n",
       "1              190.0  31494.816667     BARCELONA         MADRID       AVE   \n",
       "2              150.0  52275.950000       SEVILLA         MADRID       AVE   \n",
       "3              460.0  26968.016667      VALENCIA         MADRID  REGIONAL   \n",
       "4              179.0  68741.383333        MADRID      BARCELONA   AVE-TGV   \n",
       "...              ...           ...           ...            ...       ...   \n",
       "383563         109.0   6628.116667        MADRID       VALENCIA       AVE   \n",
       "383564         190.0  67571.066667     BARCELONA         MADRID       AVE   \n",
       "383565         100.0   6773.266667      VALENCIA         MADRID       AVE   \n",
       "383566         141.0  58674.683333        MADRID        SEVILLA       AVE   \n",
       "383567         106.0  29010.766667      VALENCIA         MADRID       AVE   \n",
       "\n",
       "       TIPO_TARIFA       CLASE  PRECIO  \n",
       "0         Flexible     Turista   67.20  \n",
       "1         Flexible     Turista  107.70  \n",
       "2            Promo     Turista   47.30  \n",
       "3       Adulto ida     Turista   28.35  \n",
       "4            Promo     Turista   66.75  \n",
       "...            ...         ...     ...  \n",
       "383563    Flexible         NaN   73.10  \n",
       "383564       Promo  Preferente   54.45  \n",
       "383565       Promo     Turista   27.80  \n",
       "383566       Promo         NaN   47.30  \n",
       "383567    Flexible     Turista   73.10  \n",
       "\n",
       "[383544 rows x 11 columns]"
      ]
     },
     "execution_count": 137,
     "metadata": {},
     "output_type": "execute_result"
    }
   ],
   "source": [
    "renfe1"
   ]
  },
  {
   "cell_type": "code",
   "execution_count": 140,
   "metadata": {},
   "outputs": [
    {
     "data": {
      "text/plain": [
       "TIPO_TARIFA\n",
       "4x100                        0.000000\n",
       "Adulto ida                  31.343371\n",
       "COD.PROMOCIONAL             57.416667\n",
       "Doble Familiar-Flexible     98.200000\n",
       "Flexible                    80.188719\n",
       "Grupos Ida                  86.150000\n",
       "Individual-Flexible        150.600000\n",
       "Mesa                       257.142857\n",
       "Promo                       59.649460\n",
       "Promo +                     36.283101\n",
       "Name: PRECIO, dtype: float64"
      ]
     },
     "execution_count": 140,
     "metadata": {},
     "output_type": "execute_result"
    }
   ],
   "source": [
    "renfe1.groupby([\"TIPO_TARIFA\"])[\"PRECIO\"].mean()   # Check the average price of each route"
   ]
  },
  {
   "cell_type": "markdown",
   "metadata": {},
   "source": [
    "Primero realizamos listas con: el tipo de \"CLASE\" y la Media del precio segun la clase."
   ]
  },
  {
   "cell_type": "code",
   "execution_count": 164,
   "metadata": {},
   "outputs": [],
   "source": [
    "clases_unicas = renfe1[\"CLASE\"].unique()   # Check the unique values of the column \"CLASE\"\n",
    "mean_precios = renfe1.groupby([\"CLASE\"])[\"PRECIO\"].mean()\n",
    "# Check the average price of each type of fare"
   ]
  },
  {
   "cell_type": "code",
   "execution_count": 166,
   "metadata": {},
   "outputs": [],
   "source": [
    "mean_precios_dict = dict(zip(clases_unicas, mean_precios))\n"
   ]
  },
  {
   "cell_type": "code",
   "execution_count": 162,
   "metadata": {},
   "outputs": [],
   "source": [
    "indexes = renfe1.loc[renfe1[\"PRECIO\"].isnull()].index \n",
    "# Check the rows with missing values in the \"PRECIO\" column"
   ]
  },
  {
   "cell_type": "code",
   "execution_count": 167,
   "metadata": {},
   "outputs": [],
   "source": [
    "renfe1[\"PRECIO\"] = renfe1[\"PRECIO\"].fillna(renfe1[\"CLASE\"].map(mean_precios_dict))"
   ]
  },
  {
   "cell_type": "code",
   "execution_count": 170,
   "metadata": {},
   "outputs": [
    {
     "data": {
      "text/plain": [
       "<Axes: >"
      ]
     },
     "execution_count": 170,
     "metadata": {},
     "output_type": "execute_result"
    },
    {
     "data": {
      "image/png": "[encoded data removed]",
      "text/plain": [
       "<Figure size 640x480 with 1 Axes>"
      ]
     },
     "metadata": {},
     "output_type": "display_data"
    }
   ],
   "source": [
    "renfe1[\"PRECIO\"].hist()   # Check the number of missing values in the \"PRECIO\" column   "
   ]
  },
  {
   "cell_type": "markdown",
   "metadata": {},
   "source": [
    "### Tratamiento TIPO_TRENES"
   ]
  },
  {
   "cell_type": "code",
   "execution_count": 179,
   "metadata": {},
   "outputs": [
    {
     "data": {
      "text/html": [
       "<div>\n",
       "<style scoped>\n",
       "    .dataframe tbody tr th:only-of-type {\n",
       "        vertical-align: middle;\n",
       "    }\n",
       "\n",
       "    .dataframe tbody tr th {\n",
       "        vertical-align: top;\n",
       "    }\n",
       "\n",
       "    .dataframe thead th {\n",
       "        text-align: right;\n",
       "    }\n",
       "</style>\n",
       "<table border=\"1\" class=\"dataframe\">\n",
       "  <thead>\n",
       "    <tr style=\"text-align: right;\">\n",
       "      <th></th>\n",
       "      <th>FECHA_CONSULTA</th>\n",
       "      <th>FECHA_INICIO</th>\n",
       "      <th>FECHA_FIN</th>\n",
       "      <th>TIEMPO_VIAJE</th>\n",
       "      <th>DIF_INI_BUS</th>\n",
       "      <th>CIUDAD_ORIGEN</th>\n",
       "      <th>CIUDAD_DESTINO</th>\n",
       "      <th>TIPO_TREN</th>\n",
       "      <th>TIPO_TARIFA</th>\n",
       "      <th>CLASE</th>\n",
       "      <th>PRECIO</th>\n",
       "    </tr>\n",
       "  </thead>\n",
       "  <tbody>\n",
       "    <tr>\n",
       "      <th>0</th>\n",
       "      <td>2019-05-25 01:43:03</td>\n",
       "      <td>2019-06-28 20:36:00</td>\n",
       "      <td>2019-06-28 23:14:00</td>\n",
       "      <td>158.0</td>\n",
       "      <td>50092.950000</td>\n",
       "      <td>SEVILLA</td>\n",
       "      <td>MADRID</td>\n",
       "      <td>ALVIA</td>\n",
       "      <td>Flexible</td>\n",
       "      <td>Turista</td>\n",
       "      <td>67.20</td>\n",
       "    </tr>\n",
       "    <tr>\n",
       "      <th>1</th>\n",
       "      <td>2019-06-22 13:05:11</td>\n",
       "      <td>2019-07-14 10:00:00</td>\n",
       "      <td>2019-07-14 13:10:00</td>\n",
       "      <td>190.0</td>\n",
       "      <td>31494.816667</td>\n",
       "      <td>BARCELONA</td>\n",
       "      <td>MADRID</td>\n",
       "      <td>AVE</td>\n",
       "      <td>Flexible</td>\n",
       "      <td>Turista</td>\n",
       "      <td>107.70</td>\n",
       "    </tr>\n",
       "    <tr>\n",
       "      <th>2</th>\n",
       "      <td>2019-04-17 06:24:03</td>\n",
       "      <td>2019-05-23 13:40:00</td>\n",
       "      <td>2019-05-23 16:10:00</td>\n",
       "      <td>150.0</td>\n",
       "      <td>52275.950000</td>\n",
       "      <td>SEVILLA</td>\n",
       "      <td>MADRID</td>\n",
       "      <td>AVE</td>\n",
       "      <td>Promo</td>\n",
       "      <td>Turista</td>\n",
       "      <td>47.30</td>\n",
       "    </tr>\n",
       "    <tr>\n",
       "      <th>3</th>\n",
       "      <td>2019-05-10 21:21:59</td>\n",
       "      <td>2019-05-29 14:50:00</td>\n",
       "      <td>2019-05-29 22:30:00</td>\n",
       "      <td>460.0</td>\n",
       "      <td>26968.016667</td>\n",
       "      <td>VALENCIA</td>\n",
       "      <td>MADRID</td>\n",
       "      <td>REGIONAL</td>\n",
       "      <td>Adulto ida</td>\n",
       "      <td>Turista</td>\n",
       "      <td>28.35</td>\n",
       "    </tr>\n",
       "    <tr>\n",
       "      <th>4</th>\n",
       "      <td>2019-05-09 19:43:37</td>\n",
       "      <td>2019-06-26 13:25:00</td>\n",
       "      <td>2019-06-26 16:24:00</td>\n",
       "      <td>179.0</td>\n",
       "      <td>68741.383333</td>\n",
       "      <td>MADRID</td>\n",
       "      <td>BARCELONA</td>\n",
       "      <td>AVE-TGV</td>\n",
       "      <td>Promo</td>\n",
       "      <td>Turista</td>\n",
       "      <td>66.75</td>\n",
       "    </tr>\n",
       "    <tr>\n",
       "      <th>...</th>\n",
       "      <td>...</td>\n",
       "      <td>...</td>\n",
       "      <td>...</td>\n",
       "      <td>...</td>\n",
       "      <td>...</td>\n",
       "      <td>...</td>\n",
       "      <td>...</td>\n",
       "      <td>...</td>\n",
       "      <td>...</td>\n",
       "      <td>...</td>\n",
       "      <td>...</td>\n",
       "    </tr>\n",
       "    <tr>\n",
       "      <th>383563</th>\n",
       "      <td>2019-05-06 05:11:53</td>\n",
       "      <td>2019-05-10 19:40:00</td>\n",
       "      <td>2019-05-10 21:29:00</td>\n",
       "      <td>109.0</td>\n",
       "      <td>6628.116667</td>\n",
       "      <td>MADRID</td>\n",
       "      <td>VALENCIA</td>\n",
       "      <td>AVE</td>\n",
       "      <td>Flexible</td>\n",
       "      <td>NaN</td>\n",
       "      <td>73.10</td>\n",
       "    </tr>\n",
       "    <tr>\n",
       "      <th>383564</th>\n",
       "      <td>2019-06-19 21:48:56</td>\n",
       "      <td>2019-08-05 20:00:00</td>\n",
       "      <td>2019-08-05 23:10:00</td>\n",
       "      <td>190.0</td>\n",
       "      <td>67571.066667</td>\n",
       "      <td>BARCELONA</td>\n",
       "      <td>MADRID</td>\n",
       "      <td>AVE</td>\n",
       "      <td>Promo</td>\n",
       "      <td>Preferente</td>\n",
       "      <td>54.45</td>\n",
       "    </tr>\n",
       "    <tr>\n",
       "      <th>383565</th>\n",
       "      <td>2019-04-24 23:21:44</td>\n",
       "      <td>2019-04-29 16:15:00</td>\n",
       "      <td>2019-04-29 17:55:00</td>\n",
       "      <td>100.0</td>\n",
       "      <td>6773.266667</td>\n",
       "      <td>VALENCIA</td>\n",
       "      <td>MADRID</td>\n",
       "      <td>AVE</td>\n",
       "      <td>Promo</td>\n",
       "      <td>Turista</td>\n",
       "      <td>27.80</td>\n",
       "    </tr>\n",
       "    <tr>\n",
       "      <th>383566</th>\n",
       "      <td>2019-05-27 21:05:19</td>\n",
       "      <td>2019-07-07 15:00:00</td>\n",
       "      <td>2019-07-07 17:21:00</td>\n",
       "      <td>141.0</td>\n",
       "      <td>58674.683333</td>\n",
       "      <td>MADRID</td>\n",
       "      <td>SEVILLA</td>\n",
       "      <td>AVE</td>\n",
       "      <td>Promo</td>\n",
       "      <td>NaN</td>\n",
       "      <td>47.30</td>\n",
       "    </tr>\n",
       "    <tr>\n",
       "      <th>383567</th>\n",
       "      <td>2019-05-27 15:04:14</td>\n",
       "      <td>2019-06-16 18:35:00</td>\n",
       "      <td>2019-06-16 20:21:00</td>\n",
       "      <td>106.0</td>\n",
       "      <td>29010.766667</td>\n",
       "      <td>VALENCIA</td>\n",
       "      <td>MADRID</td>\n",
       "      <td>AVE</td>\n",
       "      <td>Flexible</td>\n",
       "      <td>Turista</td>\n",
       "      <td>73.10</td>\n",
       "    </tr>\n",
       "  </tbody>\n",
       "</table>\n",
       "<p>383544 rows × 11 columns</p>\n",
       "</div>"
      ],
      "text/plain": [
       "            FECHA_CONSULTA        FECHA_INICIO           FECHA_FIN  \\\n",
       "0      2019-05-25 01:43:03 2019-06-28 20:36:00 2019-06-28 23:14:00   \n",
       "1      2019-06-22 13:05:11 2019-07-14 10:00:00 2019-07-14 13:10:00   \n",
       "2      2019-04-17 06:24:03 2019-05-23 13:40:00 2019-05-23 16:10:00   \n",
       "3      2019-05-10 21:21:59 2019-05-29 14:50:00 2019-05-29 22:30:00   \n",
       "4      2019-05-09 19:43:37 2019-06-26 13:25:00 2019-06-26 16:24:00   \n",
       "...                    ...                 ...                 ...   \n",
       "383563 2019-05-06 05:11:53 2019-05-10 19:40:00 2019-05-10 21:29:00   \n",
       "383564 2019-06-19 21:48:56 2019-08-05 20:00:00 2019-08-05 23:10:00   \n",
       "383565 2019-04-24 23:21:44 2019-04-29 16:15:00 2019-04-29 17:55:00   \n",
       "383566 2019-05-27 21:05:19 2019-07-07 15:00:00 2019-07-07 17:21:00   \n",
       "383567 2019-05-27 15:04:14 2019-06-16 18:35:00 2019-06-16 20:21:00   \n",
       "\n",
       "        TIEMPO_VIAJE   DIF_INI_BUS CIUDAD_ORIGEN CIUDAD_DESTINO TIPO_TREN  \\\n",
       "0              158.0  50092.950000       SEVILLA         MADRID     ALVIA   \n",
       "1              190.0  31494.816667     BARCELONA         MADRID       AVE   \n",
       "2              150.0  52275.950000       SEVILLA         MADRID       AVE   \n",
       "3              460.0  26968.016667      VALENCIA         MADRID  REGIONAL   \n",
       "4              179.0  68741.383333        MADRID      BARCELONA   AVE-TGV   \n",
       "...              ...           ...           ...            ...       ...   \n",
       "383563         109.0   6628.116667        MADRID       VALENCIA       AVE   \n",
       "383564         190.0  67571.066667     BARCELONA         MADRID       AVE   \n",
       "383565         100.0   6773.266667      VALENCIA         MADRID       AVE   \n",
       "383566         141.0  58674.683333        MADRID        SEVILLA       AVE   \n",
       "383567         106.0  29010.766667      VALENCIA         MADRID       AVE   \n",
       "\n",
       "       TIPO_TARIFA       CLASE  PRECIO  \n",
       "0         Flexible     Turista   67.20  \n",
       "1         Flexible     Turista  107.70  \n",
       "2            Promo     Turista   47.30  \n",
       "3       Adulto ida     Turista   28.35  \n",
       "4            Promo     Turista   66.75  \n",
       "...            ...         ...     ...  \n",
       "383563    Flexible         NaN   73.10  \n",
       "383564       Promo  Preferente   54.45  \n",
       "383565       Promo     Turista   27.80  \n",
       "383566       Promo         NaN   47.30  \n",
       "383567    Flexible     Turista   73.10  \n",
       "\n",
       "[383544 rows x 11 columns]"
      ]
     },
     "execution_count": 179,
     "metadata": {},
     "output_type": "execute_result"
    }
   ],
   "source": [
    "renfe1  # Check the unique values of the column \"CLASE\""
   ]
  },
  {
   "cell_type": "code",
   "execution_count": 180,
   "metadata": {},
   "outputs": [
    {
     "name": "stderr",
     "output_type": "stream",
     "text": [
      "/var/folders/6z/w5b7jg7n47g1sp0cg04fbvlw0000gn/T/ipykernel_24331/3231026837.py:1: FutureWarning: Downcasting object dtype arrays on .fillna, .ffill, .bfill is deprecated and will change in a future version. Call result.infer_objects(copy=False) instead. To opt-in to the future behavior, set `pd.set_option('future.no_silent_downcasting', True)`\n",
      "  renfe1[\"TIPO_TREN\"] = renfe1.groupby([\"CIUDAD_ORIGEN\", \"CIUDAD_DESTINO\", \"FECHA_INICIO\", \"FECHA_FIN\"])[\"TIPO_TREN\"].transform(lambda x: x.ffill().bfill())  # Fill the missing values in the \"TIPO_TREN\" column with the mode\n"
     ]
    }
   ],
   "source": [
    "renfe1[\"TIPO_TREN\"] = renfe1.groupby([\"CIUDAD_ORIGEN\", \"CIUDAD_DESTINO\", \"FECHA_INICIO\", \"FECHA_FIN\"])[\"TIPO_TREN\"].transform(lambda x: x.ffill().bfill())  # Fill the missing values in the \"TIPO_TREN\" column with the mode"
   ]
  },
  {
   "cell_type": "code",
   "execution_count": 181,
   "metadata": {},
   "outputs": [
    {
     "data": {
      "text/plain": [
       "np.int64(159)"
      ]
     },
     "execution_count": 181,
     "metadata": {},
     "output_type": "execute_result"
    }
   ],
   "source": [
    "renfe1[\"TIPO_TREN\"].isnull().sum()   # Check the number of missing values in the \"TIPO_TREN\" column"
   ]
  },
  {
   "cell_type": "code",
   "execution_count": 182,
   "metadata": {},
   "outputs": [],
   "source": [
    "renfe1.dropna(subset=[\"TIPO_TREN\"], inplace=True)   # Drop the rows with missing values in the \"TIPO_TREN\" column"
   ]
  },
  {
   "cell_type": "markdown",
   "metadata": {},
   "source": [
    "### Tratamiento TIPO_TARIFA"
   ]
  },
  {
   "cell_type": "code",
   "execution_count": 191,
   "metadata": {},
   "outputs": [
    {
     "data": {
      "text/plain": [
       "np.int64(0)"
      ]
     },
     "execution_count": 191,
     "metadata": {},
     "output_type": "execute_result"
    }
   ],
   "source": [
    "renfe1[\"TIPO_TREN\"].isnull().sum()   # Check the number of missing values in the \"TIPO_TREN\" column"
   ]
  },
  {
   "cell_type": "code",
   "execution_count": 201,
   "metadata": {},
   "outputs": [],
   "source": [
    "renfe_prueba_tarifa1 = renfe1.copy()"
   ]
  },
  {
   "cell_type": "code",
   "execution_count": 226,
   "metadata": {},
   "outputs": [
    {
     "name": "stderr",
     "output_type": "stream",
     "text": [
      "/var/folders/6z/w5b7jg7n47g1sp0cg04fbvlw0000gn/T/ipykernel_24331/3819651680.py:1: FutureWarning: Downcasting object dtype arrays on .fillna, .ffill, .bfill is deprecated and will change in a future version. Call result.infer_objects(copy=False) instead. To opt-in to the future behavior, set `pd.set_option('future.no_silent_downcasting', True)`\n",
      "  renfe1[\"TIPO_TARIFA\"] = renfe1.groupby([\"CIUDAD_ORIGEN\", \"CIUDAD_DESTINO\", \"FECHA_INICIO\", \"FECHA_FIN\", \"PRECIO\"])[\"TIPO_TARIFA\"].transform(lambda x: x.ffill().bfill())  # Fill the missing values in the \"TIPO_TARIFA\" column with the mode\n"
     ]
    }
   ],
   "source": [
    "renfe1[\"TIPO_TARIFA\"] = renfe1.groupby([\"CIUDAD_ORIGEN\", \"CIUDAD_DESTINO\", \"FECHA_INICIO\", \"FECHA_FIN\", \"PRECIO\"])[\"TIPO_TARIFA\"].transform(lambda x: x.ffill().bfill())  # Fill the missing values in the \"TIPO_TARIFA\" column with the mode"
   ]
  },
  {
   "cell_type": "code",
   "execution_count": 227,
   "metadata": {},
   "outputs": [
    {
     "data": {
      "text/plain": [
       "np.int64(3267)"
      ]
     },
     "execution_count": 227,
     "metadata": {},
     "output_type": "execute_result"
    }
   ],
   "source": [
    "renfe1[\"TIPO_TARIFA\"].isnull().sum()   # Check the number of missing values in the \"TIPO_TARIFA\" column"
   ]
  },
  {
   "cell_type": "code",
   "execution_count": 228,
   "metadata": {},
   "outputs": [],
   "source": [
    "renfe1.dropna(subset=[\"TIPO_TARIFA\"], inplace=True)   # Drop the rows with missing values in the \"TIPO_TARIFA\" column"
   ]
  },
  {
   "cell_type": "markdown",
   "metadata": {},
   "source": [
    "### Tratamiento CLASE"
   ]
  },
  {
   "cell_type": "code",
   "execution_count": 210,
   "metadata": {},
   "outputs": [
    {
     "name": "stderr",
     "output_type": "stream",
     "text": [
      "/var/folders/6z/w5b7jg7n47g1sp0cg04fbvlw0000gn/T/ipykernel_24331/3932760847.py:1: FutureWarning: Downcasting object dtype arrays on .fillna, .ffill, .bfill is deprecated and will change in a future version. Call result.infer_objects(copy=False) instead. To opt-in to the future behavior, set `pd.set_option('future.no_silent_downcasting', True)`\n",
      "  renfe1[\"CLASE\"] = renfe1.groupby([\"CIUDAD_ORIGEN\", \"CIUDAD_DESTINO\", \"FECHA_INICIO\", \"FECHA_FIN\", \"PRECIO\"])[\"CLASE\"].transform(lambda x: x.ffill().bfill())  # Fill the missing values in the \"CLASE\" column with the mode\n"
     ]
    }
   ],
   "source": [
    "renfe1[\"CLASE\"] = renfe1.groupby([\"CIUDAD_ORIGEN\", \"CIUDAD_DESTINO\", \"FECHA_INICIO\", \"FECHA_FIN\", \"PRECIO\"])[\"CLASE\"].transform(lambda x: x.ffill().bfill())  # Fill the missing values in the \"CLASE\" column with the mode\n"
   ]
  },
  {
   "cell_type": "code",
   "execution_count": 224,
   "metadata": {},
   "outputs": [
    {
     "data": {
      "text/plain": [
       "np.int64(0)"
      ]
     },
     "execution_count": 224,
     "metadata": {},
     "output_type": "execute_result"
    }
   ],
   "source": [
    "renfe1[\"CLASE\"].isnull().sum()   # Check the number of missing values in the \"CLASE\" column\n"
   ]
  },
  {
   "cell_type": "code",
   "execution_count": 212,
   "metadata": {},
   "outputs": [
    {
     "name": "stderr",
     "output_type": "stream",
     "text": [
      "/var/folders/6z/w5b7jg7n47g1sp0cg04fbvlw0000gn/T/ipykernel_24331/2544639864.py:1: FutureWarning: Downcasting object dtype arrays on .fillna, .ffill, .bfill is deprecated and will change in a future version. Call result.infer_objects(copy=False) instead. To opt-in to the future behavior, set `pd.set_option('future.no_silent_downcasting', True)`\n",
      "  renfe1[\"CLASE\"] = renfe1.groupby([\"PRECIO\"])[\"CLASE\"].transform(lambda x: x.ffill().bfill())  # Fill the missing values in the \"CLASE\" column with the mode\n"
     ]
    }
   ],
   "source": [
    "renfe1[\"CLASE\"] = renfe1.groupby([\"PRECIO\"])[\"CLASE\"].transform(lambda x: x.ffill().bfill())  # Fill the missing values in the \"CLASE\" column with the mode"
   ]
  },
  {
   "cell_type": "code",
   "execution_count": 213,
   "metadata": {},
   "outputs": [
    {
     "data": {
      "text/plain": [
       "np.int64(1)"
      ]
     },
     "execution_count": 213,
     "metadata": {},
     "output_type": "execute_result"
    }
   ],
   "source": [
    "renfe1[\"CLASE\"].isnull().sum()   # Check the number of missing values in the \"CLASE\" column "
   ]
  },
  {
   "cell_type": "code",
   "execution_count": 214,
   "metadata": {},
   "outputs": [],
   "source": [
    "renfe1.dropna(subset=[\"CLASE\"], inplace=True)   # Drop the rows with missing values in the \"CLASE\" column"
   ]
  },
  {
   "cell_type": "code",
   "execution_count": 215,
   "metadata": {},
   "outputs": [
    {
     "data": {
      "text/plain": [
       "np.int64(0)"
      ]
     },
     "execution_count": 215,
     "metadata": {},
     "output_type": "execute_result"
    }
   ],
   "source": [
    "renfe1[\"CLASE\"].isnull().sum()   # Check the number of missing values in the \"CLASE\" column"
   ]
  },
  {
   "cell_type": "code",
   "execution_count": 218,
   "metadata": {},
   "outputs": [
    {
     "data": {
      "text/plain": [
       "np.int64(39535)"
      ]
     },
     "execution_count": 218,
     "metadata": {},
     "output_type": "execute_result"
    }
   ],
   "source": [
    "renfe1.isnull().sum().sum()   # Check the number of missing values in the dataset"
   ]
  },
  {
   "cell_type": "code",
   "execution_count": 223,
   "metadata": {},
   "outputs": [
    {
     "data": {
      "text/plain": [
       "np.int64(39535)"
      ]
     },
     "execution_count": 223,
     "metadata": {},
     "output_type": "execute_result"
    }
   ],
   "source": [
    "renfe1[\"TIPO_TARIFA\"].isnull().sum()   # Check the number of missing values in the \"CLASE\" column"
   ]
  },
  {
   "cell_type": "code",
   "execution_count": null,
   "metadata": {},
   "outputs": [],
   "source": []
  },
  {
   "cell_type": "markdown",
   "metadata": {},
   "source": [
    "## Creacion de variables"
   ]
  },
  {
   "cell_type": "markdown",
   "metadata": {},
   "source": [
    "### Tiempo_Viaje\n",
    "Variable que me indica en minutos la duración del viaje."
   ]
  },
  {
   "cell_type": "code",
   "execution_count": 92,
   "metadata": {},
   "outputs": [
    {
     "data": {
      "text/html": [
       "<div>\n",
       "<style scoped>\n",
       "    .dataframe tbody tr th:only-of-type {\n",
       "        vertical-align: middle;\n",
       "    }\n",
       "\n",
       "    .dataframe tbody tr th {\n",
       "        vertical-align: top;\n",
       "    }\n",
       "\n",
       "    .dataframe thead th {\n",
       "        text-align: right;\n",
       "    }\n",
       "</style>\n",
       "<table border=\"1\" class=\"dataframe\">\n",
       "  <thead>\n",
       "    <tr style=\"text-align: right;\">\n",
       "      <th></th>\n",
       "      <th>FECHA_CONSULTA</th>\n",
       "      <th>FECHA_INICIO</th>\n",
       "      <th>FECHA_FIN</th>\n",
       "      <th>CIUDAD_ORIGEN</th>\n",
       "      <th>CIUDAD_DESTINO</th>\n",
       "      <th>TIPO_TREN</th>\n",
       "      <th>TIPO_TARIFA</th>\n",
       "      <th>CLASE</th>\n",
       "      <th>PRECIO</th>\n",
       "    </tr>\n",
       "  </thead>\n",
       "  <tbody>\n",
       "    <tr>\n",
       "      <th>0</th>\n",
       "      <td>2019-05-25 01:43:03</td>\n",
       "      <td>2019-06-28 20:36:00</td>\n",
       "      <td>2019-06-28 23:14:00</td>\n",
       "      <td>SEVILLA</td>\n",
       "      <td>MADRID</td>\n",
       "      <td>ALVIA</td>\n",
       "      <td>Flexible</td>\n",
       "      <td>Turista</td>\n",
       "      <td>67.20</td>\n",
       "    </tr>\n",
       "    <tr>\n",
       "      <th>1</th>\n",
       "      <td>2019-06-22 13:05:11</td>\n",
       "      <td>2019-07-14 10:00:00</td>\n",
       "      <td>2019-07-14 13:10:00</td>\n",
       "      <td>BARCELONA</td>\n",
       "      <td>MADRID</td>\n",
       "      <td>AVE</td>\n",
       "      <td>Flexible</td>\n",
       "      <td>Turista</td>\n",
       "      <td>107.70</td>\n",
       "    </tr>\n",
       "    <tr>\n",
       "      <th>2</th>\n",
       "      <td>2019-04-17 06:24:03</td>\n",
       "      <td>2019-05-23 13:40:00</td>\n",
       "      <td>2019-05-23 16:10:00</td>\n",
       "      <td>SEVILLA</td>\n",
       "      <td>MADRID</td>\n",
       "      <td>AVE</td>\n",
       "      <td>Promo</td>\n",
       "      <td>Turista</td>\n",
       "      <td>47.30</td>\n",
       "    </tr>\n",
       "    <tr>\n",
       "      <th>3</th>\n",
       "      <td>2019-05-10 21:21:59</td>\n",
       "      <td>2019-05-29 14:50:00</td>\n",
       "      <td>2019-05-29 22:30:00</td>\n",
       "      <td>VALENCIA</td>\n",
       "      <td>MADRID</td>\n",
       "      <td>REGIONAL</td>\n",
       "      <td>Adulto ida</td>\n",
       "      <td>Turista</td>\n",
       "      <td>28.35</td>\n",
       "    </tr>\n",
       "    <tr>\n",
       "      <th>4</th>\n",
       "      <td>2019-05-09 19:43:37</td>\n",
       "      <td>2019-06-26 13:25:00</td>\n",
       "      <td>2019-06-26 16:24:00</td>\n",
       "      <td>MADRID</td>\n",
       "      <td>BARCELONA</td>\n",
       "      <td>AVE-TGV</td>\n",
       "      <td>Promo</td>\n",
       "      <td>Turista</td>\n",
       "      <td>66.75</td>\n",
       "    </tr>\n",
       "  </tbody>\n",
       "</table>\n",
       "</div>"
      ],
      "text/plain": [
       "       FECHA_CONSULTA        FECHA_INICIO           FECHA_FIN CIUDAD_ORIGEN  \\\n",
       "0 2019-05-25 01:43:03 2019-06-28 20:36:00 2019-06-28 23:14:00       SEVILLA   \n",
       "1 2019-06-22 13:05:11 2019-07-14 10:00:00 2019-07-14 13:10:00     BARCELONA   \n",
       "2 2019-04-17 06:24:03 2019-05-23 13:40:00 2019-05-23 16:10:00       SEVILLA   \n",
       "3 2019-05-10 21:21:59 2019-05-29 14:50:00 2019-05-29 22:30:00      VALENCIA   \n",
       "4 2019-05-09 19:43:37 2019-06-26 13:25:00 2019-06-26 16:24:00        MADRID   \n",
       "\n",
       "  CIUDAD_DESTINO TIPO_TREN TIPO_TARIFA    CLASE  PRECIO  \n",
       "0         MADRID     ALVIA    Flexible  Turista   67.20  \n",
       "1         MADRID       AVE    Flexible  Turista  107.70  \n",
       "2         MADRID       AVE       Promo  Turista   47.30  \n",
       "3         MADRID  REGIONAL  Adulto ida  Turista   28.35  \n",
       "4      BARCELONA   AVE-TGV       Promo  Turista   66.75  "
      ]
     },
     "execution_count": 92,
     "metadata": {},
     "output_type": "execute_result"
    }
   ],
   "source": [
    "renfe1.head()"
   ]
  },
  {
   "cell_type": "code",
   "execution_count": 93,
   "metadata": {},
   "outputs": [],
   "source": [
    "renfe1[\"TIEMPO_VIAJE\"] = (renfe1[\"FECHA_FIN\"] - renfe1[\"FECHA_INICIO\"]).dt.total_seconds() / 60\n"
   ]
  },
  {
   "cell_type": "code",
   "execution_count": 94,
   "metadata": {},
   "outputs": [],
   "source": [
    "columna = \"TIEMPO_VIAJE\" # Columna a mover\n",
    "columnas = [col for col in renfe1.columns if col != columna] # Lista de columnas\n",
    "columnas.insert(3, columna)  # Insertar en la posición deseada\n",
    "renfe1 = renfe1[columnas]   # Reordenar las columnas"
   ]
  },
  {
   "cell_type": "markdown",
   "metadata": {},
   "source": [
    "### Dif_Ini_Bus\n",
    "Variable que me indica en minutos la diferencia entre la fecha de inicio de viaje y la fecha de búsqueda"
   ]
  },
  {
   "cell_type": "code",
   "execution_count": 95,
   "metadata": {},
   "outputs": [],
   "source": [
    "dif_ini_bus = (renfe1[\"FECHA_INICIO\"] - renfe1[\"FECHA_CONSULTA\"]).dt.total_seconds() / 60"
   ]
  },
  {
   "cell_type": "code",
   "execution_count": 96,
   "metadata": {},
   "outputs": [],
   "source": [
    "renfe1[\"DIF_INI_BUS\"] = dif_ini_bus"
   ]
  },
  {
   "cell_type": "code",
   "execution_count": 97,
   "metadata": {},
   "outputs": [],
   "source": [
    "columna = \"DIF_INI_BUS\" # Columna a mover\n",
    "columnas = [col for col in renfe1.columns if col != columna] # Lista de columnas\n",
    "columnas.insert(4, columna)  # Insertar en la posición deseada\n",
    "renfe1 = renfe1[columnas]   # Reordenar las columnas"
   ]
  },
  {
   "cell_type": "markdown",
   "metadata": {},
   "source": [
    "### Que hace esta formula?\n",
    "Dividir columnas de formato DATE en diferentes unidades de tiempo (Y/M/D..)"
   ]
  },
  {
   "cell_type": "code",
   "execution_count": 98,
   "metadata": {},
   "outputs": [
    {
     "data": {
      "text/html": [
       "<div>\n",
       "<style scoped>\n",
       "    .dataframe tbody tr th:only-of-type {\n",
       "        vertical-align: middle;\n",
       "    }\n",
       "\n",
       "    .dataframe tbody tr th {\n",
       "        vertical-align: top;\n",
       "    }\n",
       "\n",
       "    .dataframe thead th {\n",
       "        text-align: right;\n",
       "    }\n",
       "</style>\n",
       "<table border=\"1\" class=\"dataframe\">\n",
       "  <thead>\n",
       "    <tr style=\"text-align: right;\">\n",
       "      <th></th>\n",
       "      <th>TIEMPO_VIAJE</th>\n",
       "      <th>DIF_INI_BUS</th>\n",
       "      <th>CIUDAD_ORIGEN</th>\n",
       "      <th>CIUDAD_DESTINO</th>\n",
       "      <th>TIPO_TREN</th>\n",
       "      <th>TIPO_TARIFA</th>\n",
       "      <th>CLASE</th>\n",
       "      <th>PRECIO</th>\n",
       "      <th>FECHA_CONSULTA_HORA</th>\n",
       "      <th>FECHA_CONSULTA_NOMBREDIA</th>\n",
       "      <th>FECHA_CONSULTA_DIA</th>\n",
       "      <th>FECHA_CONSULTA_MES</th>\n",
       "      <th>FECHA_INICIO_HORA</th>\n",
       "      <th>FECHA_INICIO_NOMBREDIA</th>\n",
       "      <th>FECHA_INICIO_DIA</th>\n",
       "      <th>FECHA_INICIO_MES</th>\n",
       "      <th>FECHA_FIN_HORA</th>\n",
       "      <th>FECHA_FIN_NOMBREDIA</th>\n",
       "      <th>FECHA_FIN_DIA</th>\n",
       "      <th>FECHA_FIN_MES</th>\n",
       "    </tr>\n",
       "  </thead>\n",
       "  <tbody>\n",
       "    <tr>\n",
       "      <th>0</th>\n",
       "      <td>158.0</td>\n",
       "      <td>50092.950000</td>\n",
       "      <td>SEVILLA</td>\n",
       "      <td>MADRID</td>\n",
       "      <td>ALVIA</td>\n",
       "      <td>Flexible</td>\n",
       "      <td>Turista</td>\n",
       "      <td>67.20</td>\n",
       "      <td>1</td>\n",
       "      <td>Saturday</td>\n",
       "      <td>25</td>\n",
       "      <td>5</td>\n",
       "      <td>20</td>\n",
       "      <td>Friday</td>\n",
       "      <td>28</td>\n",
       "      <td>6</td>\n",
       "      <td>23</td>\n",
       "      <td>Friday</td>\n",
       "      <td>28</td>\n",
       "      <td>6</td>\n",
       "    </tr>\n",
       "    <tr>\n",
       "      <th>1</th>\n",
       "      <td>190.0</td>\n",
       "      <td>31494.816667</td>\n",
       "      <td>BARCELONA</td>\n",
       "      <td>MADRID</td>\n",
       "      <td>AVE</td>\n",
       "      <td>Flexible</td>\n",
       "      <td>Turista</td>\n",
       "      <td>107.70</td>\n",
       "      <td>13</td>\n",
       "      <td>Saturday</td>\n",
       "      <td>22</td>\n",
       "      <td>6</td>\n",
       "      <td>10</td>\n",
       "      <td>Sunday</td>\n",
       "      <td>14</td>\n",
       "      <td>7</td>\n",
       "      <td>13</td>\n",
       "      <td>Sunday</td>\n",
       "      <td>14</td>\n",
       "      <td>7</td>\n",
       "    </tr>\n",
       "    <tr>\n",
       "      <th>2</th>\n",
       "      <td>150.0</td>\n",
       "      <td>52275.950000</td>\n",
       "      <td>SEVILLA</td>\n",
       "      <td>MADRID</td>\n",
       "      <td>AVE</td>\n",
       "      <td>Promo</td>\n",
       "      <td>Turista</td>\n",
       "      <td>47.30</td>\n",
       "      <td>6</td>\n",
       "      <td>Wednesday</td>\n",
       "      <td>17</td>\n",
       "      <td>4</td>\n",
       "      <td>13</td>\n",
       "      <td>Thursday</td>\n",
       "      <td>23</td>\n",
       "      <td>5</td>\n",
       "      <td>16</td>\n",
       "      <td>Thursday</td>\n",
       "      <td>23</td>\n",
       "      <td>5</td>\n",
       "    </tr>\n",
       "    <tr>\n",
       "      <th>3</th>\n",
       "      <td>460.0</td>\n",
       "      <td>26968.016667</td>\n",
       "      <td>VALENCIA</td>\n",
       "      <td>MADRID</td>\n",
       "      <td>REGIONAL</td>\n",
       "      <td>Adulto ida</td>\n",
       "      <td>Turista</td>\n",
       "      <td>28.35</td>\n",
       "      <td>21</td>\n",
       "      <td>Friday</td>\n",
       "      <td>10</td>\n",
       "      <td>5</td>\n",
       "      <td>14</td>\n",
       "      <td>Wednesday</td>\n",
       "      <td>29</td>\n",
       "      <td>5</td>\n",
       "      <td>22</td>\n",
       "      <td>Wednesday</td>\n",
       "      <td>29</td>\n",
       "      <td>5</td>\n",
       "    </tr>\n",
       "    <tr>\n",
       "      <th>4</th>\n",
       "      <td>179.0</td>\n",
       "      <td>68741.383333</td>\n",
       "      <td>MADRID</td>\n",
       "      <td>BARCELONA</td>\n",
       "      <td>AVE-TGV</td>\n",
       "      <td>Promo</td>\n",
       "      <td>Turista</td>\n",
       "      <td>66.75</td>\n",
       "      <td>19</td>\n",
       "      <td>Thursday</td>\n",
       "      <td>9</td>\n",
       "      <td>5</td>\n",
       "      <td>13</td>\n",
       "      <td>Wednesday</td>\n",
       "      <td>26</td>\n",
       "      <td>6</td>\n",
       "      <td>16</td>\n",
       "      <td>Wednesday</td>\n",
       "      <td>26</td>\n",
       "      <td>6</td>\n",
       "    </tr>\n",
       "  </tbody>\n",
       "</table>\n",
       "</div>"
      ],
      "text/plain": [
       "   TIEMPO_VIAJE   DIF_INI_BUS CIUDAD_ORIGEN CIUDAD_DESTINO TIPO_TREN  \\\n",
       "0         158.0  50092.950000       SEVILLA         MADRID     ALVIA   \n",
       "1         190.0  31494.816667     BARCELONA         MADRID       AVE   \n",
       "2         150.0  52275.950000       SEVILLA         MADRID       AVE   \n",
       "3         460.0  26968.016667      VALENCIA         MADRID  REGIONAL   \n",
       "4         179.0  68741.383333        MADRID      BARCELONA   AVE-TGV   \n",
       "\n",
       "  TIPO_TARIFA    CLASE  PRECIO  FECHA_CONSULTA_HORA FECHA_CONSULTA_NOMBREDIA  \\\n",
       "0    Flexible  Turista   67.20                    1                 Saturday   \n",
       "1    Flexible  Turista  107.70                   13                 Saturday   \n",
       "2       Promo  Turista   47.30                    6                Wednesday   \n",
       "3  Adulto ida  Turista   28.35                   21                   Friday   \n",
       "4       Promo  Turista   66.75                   19                 Thursday   \n",
       "\n",
       "   FECHA_CONSULTA_DIA  FECHA_CONSULTA_MES  FECHA_INICIO_HORA  \\\n",
       "0                  25                   5                 20   \n",
       "1                  22                   6                 10   \n",
       "2                  17                   4                 13   \n",
       "3                  10                   5                 14   \n",
       "4                   9                   5                 13   \n",
       "\n",
       "  FECHA_INICIO_NOMBREDIA  FECHA_INICIO_DIA  FECHA_INICIO_MES  FECHA_FIN_HORA  \\\n",
       "0                 Friday                28                 6              23   \n",
       "1                 Sunday                14                 7              13   \n",
       "2               Thursday                23                 5              16   \n",
       "3              Wednesday                29                 5              22   \n",
       "4              Wednesday                26                 6              16   \n",
       "\n",
       "  FECHA_FIN_NOMBREDIA  FECHA_FIN_DIA  FECHA_FIN_MES  \n",
       "0              Friday             28              6  \n",
       "1              Sunday             14              7  \n",
       "2            Thursday             23              5  \n",
       "3           Wednesday             29              5  \n",
       "4           Wednesday             26              6  "
      ]
     },
     "execution_count": 98,
     "metadata": {},
     "output_type": "execute_result"
    }
   ],
   "source": [
    "renfe_horas_separadas = renfe1.copy()   # Copiar el dataframe\n",
    "\n",
    "for col in ['FECHA_CONSULTA', 'FECHA_INICIO', 'FECHA_FIN']:\n",
    "    renfe_horas_separadas[col + '_HORA'] = renfe_horas_separadas[col].dt.hour\n",
    "    renfe_horas_separadas[col + '_NOMBREDIA'] = renfe_horas_separadas[col].dt.day_name()\n",
    "    ##O .dt.weekday_name\n",
    "    renfe_horas_separadas[col + '_DIA'] = renfe_horas_separadas[col].dt.day\n",
    "    renfe_horas_separadas[col + '_MES'] = renfe_horas_separadas[col].dt.month\n",
    "    \n",
    "    del renfe_horas_separadas[col]\n",
    "\n",
    "renfe_horas_separadas.head()"
   ]
  },
  {
   "cell_type": "code",
   "execution_count": null,
   "metadata": {},
   "outputs": [],
   "source": [
    "\n"
   ]
  },
  {
   "cell_type": "markdown",
   "metadata": {},
   "source": [
    "## FIN"
   ]
  },
  {
   "cell_type": "markdown",
   "metadata": {},
   "source": [
    "¿Ves alguna variable que hay que limpiarla?\n",
    "\n",
    "¿Qué haya outlier? Los billetes a 0€, los hemos eliminado.\n",
    "\n",
    "¿Qué haya datos que no tienen sentido a nivel de negocio? Los billetes a 0€\n",
    "\n",
    "\n",
    "realizar un mini resumen variable a variable si ves algo raro con ellas, si no ves nada raro no hace falta ponerlo en este resumen, cuando hayas terminado el proceso de limpieza crea una copia del dataset con el nombre de \"df_renfe_clean\""
   ]
  },
  {
   "cell_type": "code",
   "execution_count": 241,
   "metadata": {},
   "outputs": [
    {
     "data": {
      "text/plain": [
       "<Axes: >"
      ]
     },
     "execution_count": 241,
     "metadata": {},
     "output_type": "execute_result"
    },
    {
     "data": {
      "image/png": "[encoded data removed]",
      "text/plain": [
       "<Figure size 640x480 with 1 Axes>"
      ]
     },
     "metadata": {},
     "output_type": "display_data"
    }
   ],
   "source": [
    "renfe1[\"PRECIO\"].hist()   # Check the distribution of the \"PRECIO\" column"
   ]
  },
  {
   "cell_type": "code",
   "execution_count": 239,
   "metadata": {},
   "outputs": [],
   "source": [
    "indexes1 = renfe1[renfe1[\"PRECIO\"] == 0].index"
   ]
  },
  {
   "cell_type": "code",
   "execution_count": 240,
   "metadata": {},
   "outputs": [],
   "source": [
    "renfe1.drop(indexes1, inplace=True)   # Drop the rows with a price of 0"
   ]
  },
  {
   "cell_type": "code",
   "execution_count": 242,
   "metadata": {},
   "outputs": [],
   "source": [
    "renfe_clean = renfe1.copy()"
   ]
  },
  {
   "cell_type": "code",
   "execution_count": null,
   "metadata": {},
   "outputs": [],
   "source": [
    "renfe_clean = pikle.load(open(\"renfe_clean.pkl\", \"rb\"))   # Load the cleaned dataset"
   ]
  },
  {
   "cell_type": "code",
   "execution_count": null,
   "metadata": {},
   "outputs": [],
   "source": []
  },
  {
   "cell_type": "code",
   "execution_count": null,
   "metadata": {},
   "outputs": [],
   "source": []
  }
 ],
 "metadata": {
  "kernelspec": {
   "display_name": "Python 3",
   "language": "python",
   "name": "python3"
  },
  "language_info": {
   "codemirror_mode": {
    "name": "ipython",
    "version": 3
   },
   "file_extension": ".py",
   "mimetype": "text/x-python",
   "name": "python",
   "nbconvert_exporter": "python",
   "pygments_lexer": "ipython3",
   "version": "3.9.6"
  }
 },
 "nbformat": 4,
 "nbformat_minor": 2
}
